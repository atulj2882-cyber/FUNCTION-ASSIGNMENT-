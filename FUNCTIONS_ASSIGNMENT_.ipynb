{
  "nbformat": 4,
  "nbformat_minor": 0,
  "metadata": {
    "colab": {
      "provenance": []
    },
    "kernelspec": {
      "name": "python3",
      "display_name": "Python 3"
    },
    "language_info": {
      "name": "python"
    }
  },
  "cells": [
    {
      "cell_type": "markdown",
      "source": [
        "THEORY QUESTION"
      ],
      "metadata": {
        "id": "SNJsUdkxcJ12"
      }
    },
    {
      "cell_type": "markdown",
      "source": [],
      "metadata": {
        "id": "xmSqBdjock1_"
      }
    },
    {
      "cell_type": "markdown",
      "metadata": {
        "id": "ae67c85d"
      },
      "source": [
        " 1. What is the difference between a function and a method in Python?\n",
        "\n",
        "  ### Difference between a function and a method in Python:\n",
        "\n",
        "  In Python, both functions and methods are blocks of reusable code that perform a specific task. The key difference lies in how they are defined and called:\n",
        "\n",
        "*   **Function:** A function is a standalone block of code that can be called independently. It is not associated with any specific object or class. Functions are defined using the `def` keyword.\n",
        "\n",
        "    **Example:**"
      ]
    },
    {
      "cell_type": "code",
      "metadata": {
        "colab": {
          "base_uri": "https://localhost:8080/"
        },
        "id": "ef720d65",
        "outputId": "01a68463-551e-4229-b0dc-27f7c8f5c63c"
      },
      "source": [
        "    class Dog:\n",
        "      def __init__(self, name):\n",
        "        self.name = name\n",
        "\n",
        "      def bark(self):\n",
        "        return f\"{self.name} says Woof!\"\n",
        "\n",
        "    my_dog = Dog(\"Buddy\")\n",
        "    print(my_dog.bark())"
      ],
      "execution_count": null,
      "outputs": [
        {
          "output_type": "stream",
          "name": "stdout",
          "text": [
            "Buddy says Woof!\n"
          ]
        }
      ]
    },
    {
      "cell_type": "markdown",
      "metadata": {
        "id": "79d36416"
      },
      "source": [
        "2. Explain the concept of function arguments and parameters in Python\n",
        "\n",
        "  ### Function arguments and parameters in Python:\n",
        "\n",
        " In Python, parameters are the names listed in the function definition, while arguments are the actual values passed to the function when it is called.\n",
        "\n",
        "*   **Parameters:** These are placeholders for the values that the function will receive when it is called. They are defined in the function's signature within the parentheses.\n",
        "*   **Arguments:** These are the actual values that are passed to the function when it is called. The values of the arguments are assigned to the corresponding parameters inside the function.\n",
        "\n",
        " **Example:**\n",
        "\n",
        " In the following function definition, `name` and `age` are **parameters**:"
      ]
    },
    {
      "cell_type": "code",
      "metadata": {
        "colab": {
          "base_uri": "https://localhost:8080/"
        },
        "id": "ade0e264",
        "outputId": "6d742878-74b3-466e-ef6e-0cfb5df01ee1"
      },
      "source": [
        "def greet(name, age):\n",
        "  print(f\"Hello, my name is {name} and I am {age} years old.\")\n",
        "\n",
        "# When calling the greet function, \"Alice\" and 30 are **arguments**:\n",
        "greet(\"Alice\", 30)"
      ],
      "execution_count": null,
      "outputs": [
        {
          "output_type": "stream",
          "name": "stdout",
          "text": [
            "Hello, my name is Alice and I am 30 years old.\n"
          ]
        }
      ]
    },
    {
      "cell_type": "markdown",
      "metadata": {
        "id": "54829f15"
      },
      "source": [
        " 3. What are the different ways to define and call a function in Python?\n",
        "\n",
        " ### Different ways to define and call a function in Python:\n",
        "\n",
        " There are different ways to define and call functions in Python.\n",
        "\n",
        "  **Function Definition:**\n",
        "\n",
        "*   **Using `def`:** This is the standard way to define a named function."
      ]
    },
    {
      "cell_type": "code",
      "metadata": {
        "colab": {
          "base_uri": "https://localhost:8080/"
        },
        "id": "b8201b00",
        "outputId": "46564315-5267-47d0-e370-fae9797f23de"
      },
      "source": [
        "# Example of defining a function using 'def'\n",
        "def add_numbers(a, b):\n",
        "  \"\"\"This function adds two numbers.\"\"\"\n",
        "  return a + b\n",
        "\n",
        "# Example of calling the function\n",
        "result = add_numbers(5, 3)\n",
        "print(f\"Result of add_numbers(5, 3): {result}\")"
      ],
      "execution_count": null,
      "outputs": [
        {
          "output_type": "stream",
          "name": "stdout",
          "text": [
            "Result of add_numbers(5, 3): 8\n"
          ]
        }
      ]
    },
    {
      "cell_type": "markdown",
      "metadata": {
        "id": "9f5e59b1"
      },
      "source": [
        "*   **Using `lambda`:** This is used to create small, anonymous functions."
      ]
    },
    {
      "cell_type": "code",
      "metadata": {
        "colab": {
          "base_uri": "https://localhost:8080/"
        },
        "id": "e8a225a7",
        "outputId": "443e7650-3e68-4531-e8f1-df2c01e4e69b"
      },
      "source": [
        "# Example of defining a function using 'lambda'\n",
        "multiply = lambda x, y: x * y\n",
        "\n",
        "# Example of calling the lambda function\n",
        "result = multiply(4, 6)\n",
        "print(f\"Result of multiply(4, 6): {result}\")"
      ],
      "execution_count": null,
      "outputs": [
        {
          "output_type": "stream",
          "name": "stdout",
          "text": [
            "Result of multiply(4, 6): 24\n"
          ]
        }
      ]
    },
    {
      "cell_type": "markdown",
      "metadata": {
        "id": "fe280a68"
      },
      "source": [
        "**Ways to Call a Function:**\n",
        "\n",
        "*   **Positional Arguments:** Arguments are passed in the order they are defined in the function signature."
      ]
    },
    {
      "cell_type": "code",
      "metadata": {
        "colab": {
          "base_uri": "https://localhost:8080/"
        },
        "id": "9a0b9fc7",
        "outputId": "21b8f1d1-b2bb-4b89-990b-67b901bc9802"
      },
      "source": [
        "# Example of calling a function with positional arguments\n",
        "def describe_pet(animal_type, pet_name):\n",
        "  print(f\"I have a {animal_type} named {pet_name}.\")\n",
        "\n",
        "describe_pet(\"dog\", \"Buddy\")"
      ],
      "execution_count": null,
      "outputs": [
        {
          "output_type": "stream",
          "name": "stdout",
          "text": [
            "I have a dog named Buddy.\n"
          ]
        }
      ]
    },
    {
      "cell_type": "markdown",
      "metadata": {
        "id": "c7f18618"
      },
      "source": [
        "*   **Keyword Arguments:** Arguments are passed using the parameter name followed by the value. The order does not matter."
      ]
    },
    {
      "cell_type": "code",
      "metadata": {
        "colab": {
          "base_uri": "https://localhost:8080/"
        },
        "id": "6e223aa4",
        "outputId": "1e4f6b42-135b-4354-abfc-5bd1db3c7a74"
      },
      "source": [
        "# Example of calling a function with keyword arguments\n",
        "def describe_pet(animal_type, pet_name):\n",
        "  print(f\"I have a {animal_type} named {pet_name}.\")\n",
        "\n",
        "describe_pet(pet_name=\"Buddy\", animal_type=\"dog\")"
      ],
      "execution_count": null,
      "outputs": [
        {
          "output_type": "stream",
          "name": "stdout",
          "text": [
            "I have a dog named Buddy.\n"
          ]
        }
      ]
    },
    {
      "cell_type": "markdown",
      "metadata": {
        "id": "49f10e26"
      },
      "source": [
        "*   **Default Arguments:** Parameters can have default values. If an argument is not provided for a parameter with a default value, the default value is used."
      ]
    },
    {
      "cell_type": "code",
      "metadata": {
        "colab": {
          "base_uri": "https://localhost:8080/"
        },
        "id": "367d1312",
        "outputId": "e94d6dd0-b732-4409-e74c-4ab9a2e53b7d"
      },
      "source": [
        "# Example of calling a function with default arguments\n",
        "def greet(name, greeting=\"Hello\"):\n",
        "  print(f\"{greeting}, {name}!\")\n",
        "\n",
        "greet(\"Alice\") # Uses the default greeting\n",
        "greet(\"Bob\", \"Good morning\") # Overrides the default greeting"
      ],
      "execution_count": null,
      "outputs": [
        {
          "output_type": "stream",
          "name": "stdout",
          "text": [
            "Hello, Alice!\n",
            "Good morning, Bob!\n"
          ]
        }
      ]
    },
    {
      "cell_type": "markdown",
      "metadata": {
        "id": "c0a3e70c"
      },
      "source": [
        "*   **Arbitrary Positional Arguments (`*args`):** If you don't know how many positional arguments will be passed, you can use `*args`. This collects positional arguments into a tuple."
      ]
    },
    {
      "cell_type": "code",
      "metadata": {
        "colab": {
          "base_uri": "https://localhost:8080/"
        },
        "id": "299b92fe",
        "outputId": "cc5dc592-f90c-496e-f3c5-b52ef7f8e919"
      },
      "source": [
        "# Example of calling a function with arbitrary positional arguments\n",
        "def sum_numbers(*args):\n",
        "  total = 0\n",
        "  for num in args:\n",
        "    total += num\n",
        "  return total\n",
        "\n",
        "print(f\"Sum of 1, 2, 3: {sum_numbers(1, 2, 3)}\")\n",
        "print(f\"Sum of 10, 20, 30, 40: {sum_numbers(10, 20, 30, 40)}\")"
      ],
      "execution_count": null,
      "outputs": [
        {
          "output_type": "stream",
          "name": "stdout",
          "text": [
            "Sum of 1, 2, 3: 6\n",
            "Sum of 10, 20, 30, 40: 100\n"
          ]
        }
      ]
    },
    {
      "cell_type": "markdown",
      "metadata": {
        "id": "cf7e38e0"
      },
      "source": [
        "*   **Arbitrary Keyword Arguments (`**kwargs`):** If you don't know how many keyword arguments will be passed, you can use `**kwargs`. This collects keyword arguments into a dictionary."
      ]
    },
    {
      "cell_type": "code",
      "metadata": {
        "colab": {
          "base_uri": "https://localhost:8080/"
        },
        "id": "198da8a9",
        "outputId": "03800fd3-5ca1-4e5b-a084-df649679a128"
      },
      "source": [
        "# Example of calling a function with arbitrary keyword arguments\n",
        "def display_details(**kwargs):\n",
        "  for key, value in kwargs.items():\n",
        "    print(f\"{key}: {value}\")\n",
        "\n",
        "display_details(name=\"Charlie\", age=30, city=\"New York\")"
      ],
      "execution_count": null,
      "outputs": [
        {
          "output_type": "stream",
          "name": "stdout",
          "text": [
            "name: Charlie\n",
            "age: 30\n",
            "city: New York\n"
          ]
        }
      ]
    },
    {
      "cell_type": "markdown",
      "metadata": {
        "id": "d565d248"
      },
      "source": [
        "4. What is the purpose of the `return` statement in a Python function?\n",
        "\n",
        " ### Purpose of the `return` statement in a Python function:\n",
        "\n",
        " The `return` statement in a Python function serves two main purposes:\n",
        "\n",
        " 1.  **To exit the function:** When a `return` statement is encountered, the function immediately stops executing, and control is returned to the point where the function was called.\n",
        " 2.  **To send a value back to the caller:** The `return` statement can optionally include a value (or multiple values) that the function will send back to the code that called it. This returned value can then be used in the calling code. If a function doesn't have a `return` statement, or if it has a `return` statement without a value, it implicitly returns `None`.\n",
        "\n",
        " **Example:**"
      ]
    },
    {
      "cell_type": "code",
      "metadata": {
        "colab": {
          "base_uri": "https://localhost:8080/"
        },
        "id": "096e779a",
        "outputId": "e4f6ad47-1ea9-40a5-e97e-f64cf13b2521"
      },
      "source": [
        "# Example demonstrating the purpose of the 'return' statement\n",
        "def add_numbers(a, b):\n",
        "  \"\"\"This function adds two numbers and returns the result.\"\"\"\n",
        "  sum_result = a + b\n",
        "  return sum_result # The function returns the value of sum_result\n",
        "\n",
        "# Call the function and store the returned value\n",
        "result = add_numbers(10, 5)\n",
        "\n",
        "# Use the returned value\n",
        "print(f\"The sum of the numbers is: {result}\")\n",
        "\n",
        "# Example of a function without a return statement (implicitly returns None)\n",
        "def greet(name):\n",
        "  print(f\"Hello, {name}!\")\n",
        "\n",
        "# Calling the function and observing the return value (which will be None)\n",
        "return_value = greet(\"Alice\")\n",
        "print(f\"The return value of greet is: {return_value}\")"
      ],
      "execution_count": null,
      "outputs": [
        {
          "output_type": "stream",
          "name": "stdout",
          "text": [
            "The sum of the numbers is: 15\n",
            "Hello, Alice!\n",
            "The return value of greet is: None\n"
          ]
        }
      ]
    },
    {
      "cell_type": "markdown",
      "metadata": {
        "id": "e117d720"
      },
      "source": [
        "5. What are iterators in Python and how do they differ from iterables?\n",
        "\n",
        "### Iterators and Iterables in Python:\n",
        "\n",
        "In Python, the terms \"iterator\" and \"iterable\" are closely related and are fundamental to how loops and other iteration constructs work.\n",
        "\n",
        "* **Iterable:** An iterable is an object that can be \"iterated over,\" meaning you can go through its elements one by one. Examples of iterables include lists, tuples, strings, dictionaries, and sets. An object is considered iterable if it has an `__iter__()` method, which returns an iterator.\n",
        "\n",
        "* **Iterator:** An iterator is an object that represents a stream of data. It is used to iterate over an iterable object. An iterator has two essential methods:\n",
        "    * `__iter__()`: Returns the iterator object itself.\n",
        "    * `__next__()`: Returns the next item from the iterator. If there are no more items, it raises a `StopIteration` exception.\n",
        "\n",
        "**How they differ:**\n",
        "\n",
        "The key difference is that an iterable is something you can loop *over*, while an iterator is an object that *keeps track* of the current position and provides the next element. You can get an iterator from an iterable by calling the `iter()` function on it.\n",
        "\n",
        "**Example:**"
      ]
    },
    {
      "cell_type": "code",
      "metadata": {
        "colab": {
          "base_uri": "https://localhost:8080/"
        },
        "id": "cc3117f7",
        "outputId": "0c959055-e61b-41a1-ce0d-529576e78321"
      },
      "source": [
        "# Example of an iterable (a list)\n",
        "my_list = [1, 2, 3, 4, 5]\n",
        "print(\"my_list is an iterable:\", hasattr(my_list, '__iter__'))\n",
        "\n",
        "# Getting an iterator from the iterable\n",
        "my_iterator = iter(my_list)\n",
        "print(\"my_iterator is an iterator:\", hasattr(my_iterator, '__next__'))\n",
        "\n",
        "# Using the iterator to get elements\n",
        "print(next(my_iterator))\n",
        "print(next(my_iterator))\n",
        "print(next(my_iterator))\n",
        "\n",
        "# Trying to get the next element after exhaustion\n",
        "try:\n",
        "    next(my_iterator)\n",
        "    next(my_iterator)\n",
        "    next(my_iterator) # This one will raise StopIteration\n",
        "except StopIteration:\n",
        "    print(\"Iterator is exhausted.\")\n",
        "\n",
        "# The original iterable is not exhausted and can be iterated over again\n",
        "print(\"Iterating over the original list again:\")\n",
        "for item in my_list:\n",
        "    print(item)"
      ],
      "execution_count": null,
      "outputs": [
        {
          "output_type": "stream",
          "name": "stdout",
          "text": [
            "my_list is an iterable: True\n",
            "my_iterator is an iterator: True\n",
            "1\n",
            "2\n",
            "3\n",
            "Iterator is exhausted.\n",
            "Iterating over the original list again:\n",
            "1\n",
            "2\n",
            "3\n",
            "4\n",
            "5\n"
          ]
        }
      ]
    },
    {
      "cell_type": "markdown",
      "source": [
        "6. Explain the concept of generators in Python and how they are defined.\n",
        "\n",
        "   - Generators are special interators that genrate values on the fly instead of storing them in memory .\n",
        "   - They are memory -efficient and useful for large datasets or streams of data\n",
        "   - Generators are defined in two main ways :\n",
        "\n",
        "        1. Using  a function with the yield statement\n",
        "        2. Using genrator expression (similar to list comprehension but with paretheses)\n",
        "   -each call to next () on a generator produce the next value until the genrator is  exhausted          "
      ],
      "metadata": {
        "id": "sgUb1n7xhYRF"
      }
    },
    {
      "cell_type": "code",
      "metadata": {
        "colab": {
          "base_uri": "https://localhost:8080/"
        },
        "id": "37b41dfe",
        "outputId": "7e1def59-0637-4bc4-85b8-873a7690fb31"
      },
      "source": [
        "def infinite_even_numbers():\n",
        "  \"\"\"Generates an infinite sequence of even numbers.\"\"\"\n",
        "  num = 0\n",
        "  while True:\n",
        "    yield num\n",
        "    num += 2\n",
        "\n",
        "# Using the generator to get the first few even numbers\n",
        "even_gen = infinite_even_numbers()\n",
        "\n",
        "print(\"First 5 even numbers:\")\n",
        "for _ in range(5):\n",
        "  print(next(even_gen))\n",
        "\n",
        "# You can continue to get more numbers as needed\n",
        "print(\"\\nNext 5 even numbers:\")\n",
        "for _ in range(5):\n",
        "    print(next(even_gen))\n",
        "\n",
        "# Note: Since this is an infinite generator, you would typically use it\n",
        "# in a loop with a breaking condition or with tools that handle infinite iterators."
      ],
      "execution_count": null,
      "outputs": [
        {
          "output_type": "stream",
          "name": "stdout",
          "text": [
            "First 5 even numbers:\n",
            "0\n",
            "2\n",
            "4\n",
            "6\n",
            "8\n",
            "\n",
            "Next 5 even numbers:\n",
            "10\n",
            "12\n",
            "14\n",
            "16\n",
            "18\n"
          ]
        }
      ]
    },
    {
      "cell_type": "markdown",
      "metadata": {
        "id": "d80ee7d8"
      },
      "source": [
        "7. What are the advantages of using generators over regular functions?\n",
        "\n",
        "### Advantages of using generators over regular functions:\n",
        "\n",
        "Generators offer several advantages over regular functions when dealing with sequences of data, especially large ones:\n",
        "\n",
        "* **Memory Efficiency:** Generators produce values one at a time and don't store the entire sequence in memory. This makes them highly memory-efficient, particularly for large datasets or infinite sequences, where a regular function would need to create and return a large list or other data structure.\n",
        "* **Lazy Evaluation:** Generators compute values only when they are requested (using `next()` or in a loop). This is known as lazy evaluation. Regular functions, on the other hand, compute all values at once before returning.\n",
        "* **Simplicity:** Generators can often simplify code for creating iterators. The `yield` keyword handles the complexities of maintaining the iteration state.\n",
        "* **Infinite Sequences:** Generators can easily produce infinite sequences of data, which is difficult to do with regular functions that would need to store the entire sequence.\n",
        "\n",
        "**Example:**\n",
        "\n",
        "Consider generating a sequence of squares. A regular function would create a list of squares:"
      ]
    },
    {
      "cell_type": "code",
      "metadata": {
        "colab": {
          "base_uri": "https://localhost:8080/"
        },
        "id": "7f0748b9",
        "outputId": "58cd7370-5bff-4eea-bf82-8e49a7b00629"
      },
      "source": [
        "# Regular function to generate squares\n",
        "def get_squares_list(n):\n",
        "  squares = []\n",
        "  for i in range(n):\n",
        "    squares.append(i * i)\n",
        "  return squares\n",
        "\n",
        "# Generator function to generate squares\n",
        "def get_squares_generator(n):\n",
        "  for i in range(n):\n",
        "    yield i * i\n",
        "\n",
        "# Using the regular function (might consume more memory for large n)\n",
        "list_of_squares = get_squares_list(1000000)\n",
        "print(f\"Size of list: {len(list_of_squares)}\")\n",
        "\n",
        "# Using the generator function (memory-efficient)\n",
        "generator_of_squares = get_squares_generator(1000000)\n",
        "\n",
        "# Iterating over the generator (values are generated on demand)\n",
        "count = 0\n",
        "for square in generator_of_squares:\n",
        "    # Process each square without storing all of them\n",
        "    count += 1\n",
        "    if count > 5: # Just show a few for example\n",
        "        break\n",
        "    print(square)\n",
        "\n",
        "print(\"\\nGenerator values are generated on demand.\")"
      ],
      "execution_count": 1,
      "outputs": [
        {
          "output_type": "stream",
          "name": "stdout",
          "text": [
            "Size of list: 1000000\n",
            "0\n",
            "1\n",
            "4\n",
            "9\n",
            "16\n",
            "\n",
            "Generator values are generated on demand.\n"
          ]
        }
      ]
    },
    {
      "cell_type": "markdown",
      "metadata": {
        "id": "ecd79b30"
      },
      "source": [
        "8. What is a lambda function in Python and when is it typically used?\n",
        "\n",
        "### Lambda functions in Python:\n",
        "\n",
        "A lambda function in Python is a small, anonymous function defined using the `lambda` keyword. Unlike regular functions defined with `def`, lambda functions are restricted to a single expression. They are often used for short, simple operations where a full function definition would be overly verbose.\n",
        "\n",
        "**Key characteristics of lambda functions:**\n",
        "\n",
        "* **Anonymous:** They don't have a name.\n",
        "* **Single expression:** They can only contain one expression, which is implicitly returned.\n",
        "* **Compact syntax:** They are defined in a single line.\n",
        "\n",
        "**When are lambda functions typically used?**\n",
        "\n",
        "Lambda functions are commonly used in situations where a small function is needed for a short period, often as an argument to higher-order functions (functions that take other functions as arguments). Some common use cases include:\n",
        "\n",
        "* **With `filter()`:** To filter elements in an iterable based on a condition.\n",
        "* **With `map()`:** To apply a function to each element of an iterable.\n",
        "* **With `sorted()`:** To specify a custom sorting key.\n",
        "* **With `reduce()`:** To apply a function cumulatively to the items of a sequence.\n",
        "* **As a concise alternative to small `def` functions:** When a simple function is needed inline.\n",
        "\n",
        "**Example:**"
      ]
    },
    {
      "cell_type": "code",
      "metadata": {
        "colab": {
          "base_uri": "https://localhost:8080/"
        },
        "id": "28de7bb8",
        "outputId": "3e264540-7482-4dcf-8dc3-f138ae93c2a5"
      },
      "source": [
        "# Example of using a lambda function with filter()\n",
        "my_list = [1, 2, 3, 4, 5, 6, 7, 8, 9, 10]\n",
        "\n",
        "# Use a lambda function to filter out even numbers\n",
        "odd_numbers = list(filter(lambda x: x % 2 != 0, my_list))\n",
        "print(f\"Odd numbers: {odd_numbers}\")\n",
        "\n",
        "# Example of using a lambda function with map()\n",
        "# Use a lambda function to square each number\n",
        "squared_numbers = list(map(lambda x: x ** 2, my_list))\n",
        "print(f\"Squared numbers: {squared_numbers}\")\n",
        "\n",
        "# Example of using a lambda function with sorted()\n",
        "my_tuples = [(1, 'b'), (3, 'a'), (2, 'c')]\n",
        "\n",
        "# Use a lambda function to sort the list of tuples based on the second element\n",
        "sorted_tuples = sorted(my_tuples, key=lambda item: item[1])\n",
        "print(f\"Sorted tuples by second element: {sorted_tuples}\")"
      ],
      "execution_count": 2,
      "outputs": [
        {
          "output_type": "stream",
          "name": "stdout",
          "text": [
            "Odd numbers: [1, 3, 5, 7, 9]\n",
            "Squared numbers: [1, 4, 9, 16, 25, 36, 49, 64, 81, 100]\n",
            "Sorted tuples by second element: [(3, 'a'), (1, 'b'), (2, 'c')]\n"
          ]
        }
      ]
    },
    {
      "cell_type": "markdown",
      "metadata": {
        "id": "81407272"
      },
      "source": [
        "9. Explain the purpose and usage of the `map()` function in Python.\n",
        "\n",
        "### The `map()` function in Python:\n",
        "\n",
        "The `map()` function in Python is a built-in function that is used to apply a given function to all items of an iterable (like a list, tuple, etc.) and return an iterator that yields the results. It's a concise way to perform the same operation on each element of a sequence without writing an explicit loop.\n",
        "\n",
        "**Purpose:**\n",
        "\n",
        "The primary purpose of `map()` is to transform elements of an iterable by applying a function to each one. It's often used when you need to create a new sequence where each element is the result of some operation on the corresponding element of an existing sequence.\n",
        "\n",
        "**Usage:**\n",
        "\n",
        "The syntax for `map()` is:"
      ]
    },
    {
      "cell_type": "code",
      "metadata": {
        "colab": {
          "base_uri": "https://localhost:8080/"
        },
        "id": "9f34e134",
        "outputId": "ff3d9368-8e3d-4f1a-e2ff-d290792f8815"
      },
      "source": [
        "# Example of using map() to square each number in a list\n",
        "numbers = [1, 2, 3, 4, 5]\n",
        "\n",
        "# Define a function to square a number\n",
        "def square(x):\n",
        "  return x * x\n",
        "\n",
        "# Use map() to apply the square function to each number\n",
        "squared_numbers_map = map(square, numbers)\n",
        "\n",
        "# Convert the map object to a list to see the results\n",
        "squared_numbers_list = list(squared_numbers_map)\n",
        "\n",
        "print(f\"Original numbers: {numbers}\")\n",
        "print(f\"Squared numbers using map(): {squared_numbers_list}\")\n",
        "\n",
        "# Example using a lambda function with map()\n",
        "# Use map() with a lambda function to convert a list of strings to uppercase\n",
        "words = [\"hello\", \"world\", \"python\"]\n",
        "uppercase_words_map = map(lambda s: s.upper(), words)\n",
        "uppercase_words_list = list(uppercase_words_map)\n",
        "\n",
        "print(f\"Original words: {words}\")\n",
        "print(f\"Uppercase words using map() and lambda: {uppercase_words_list}\")"
      ],
      "execution_count": 3,
      "outputs": [
        {
          "output_type": "stream",
          "name": "stdout",
          "text": [
            "Original numbers: [1, 2, 3, 4, 5]\n",
            "Squared numbers using map(): [1, 4, 9, 16, 25]\n",
            "Original words: ['hello', 'world', 'python']\n",
            "Uppercase words using map() and lambda: ['HELLO', 'WORLD', 'PYTHON']\n"
          ]
        }
      ]
    },
    {
      "cell_type": "markdown",
      "metadata": {
        "id": "f72e0f71"
      },
      "source": [
        "10. What is the difference between `map()`, `reduce()`, and `filter()` functions in Python?\n",
        "\n",
        "### Differences between `map()`, `reduce()`, and `filter()` in Python:\n",
        "\n",
        "These three built-in functions are often used with iterables and functions, but they serve distinct purposes:\n",
        "\n",
        "*   **`map()`:** Transforms each item of an iterable by applying a function. Returns an iterator of the results.\n",
        "*   **`filter()`:** Selects items from an iterable based on a function that returns true. Returns an iterator with only the selected items.\n",
        "*   **`reduce()`:** Aggregates items of an iterable into a single value by applying a function cumulatively. Needs to be imported from `functools`.\n",
        "\n",
        "**In essence:**\n",
        "\n",
        "*   `map()`: **Transform**\n",
        "*   `filter()`: **Select**\n",
        "*   `reduce()`: **Aggregate**\n",
        "\n",
        "**Example:**"
      ]
    },
    {
      "cell_type": "code",
      "metadata": {
        "colab": {
          "base_uri": "https://localhost:8080/"
        },
        "id": "429b5f82",
        "outputId": "a70b0eea-41c6-40f3-f3d8-8996ea437080"
      },
      "source": [
        "from functools import reduce\n",
        "\n",
        "# Sample data\n",
        "numbers = [1, 2, 3, 4, 5, 6, 7, 8, 9, 10]\n",
        "\n",
        "# Using map(): Square each number\n",
        "squared_numbers = list(map(lambda x: x**2, numbers))\n",
        "print(f\"Original numbers: {numbers}\")\n",
        "print(f\"Squared numbers (map): {squared_numbers}\")\n",
        "\n",
        "# Using filter(): Get only even numbers\n",
        "even_numbers = list(filter(lambda x: x % 2 == 0, numbers))\n",
        "print(f\"Even numbers (filter): {even_numbers}\")\n",
        "\n",
        "# Using reduce(): Sum all numbers\n",
        "sum_of_numbers = reduce(lambda x, y: x + y, numbers)\n",
        "print(f\"Sum of numbers (reduce): {sum_of_numbers}\")"
      ],
      "execution_count": 4,
      "outputs": [
        {
          "output_type": "stream",
          "name": "stdout",
          "text": [
            "Original numbers: [1, 2, 3, 4, 5, 6, 7, 8, 9, 10]\n",
            "Squared numbers (map): [1, 4, 9, 16, 25, 36, 49, 64, 81, 100]\n",
            "Even numbers (filter): [2, 4, 6, 8, 10]\n",
            "Sum of numbers (reduce): 55\n"
          ]
        }
      ]
    },
    {
      "cell_type": "markdown",
      "source": [
        "11.  Using pen & Paper write the internal mechanism for sum operation using  reduce function on this given list:[47,11,42,13];"
      ],
      "metadata": {
        "id": "ZNdZBoYbkbZF"
      }
    },
    {
      "cell_type": "markdown",
      "source": [
        "Reduce function - sum operation\n",
        " - (step by step)\n",
        " - GIVEN LIST : [ 47, 11, 42, 13]\n",
        " - Internal working of reduce ( lambda x, y, : x+y ,[ 47, 11 , 42, 13 ]\n",
        " - Step 1 :- take first two numbers -> 47+11 = 58\n",
        " - Step 2 :- take result @ next number -> 58+42 =100\n",
        " - Step 3 :- take result @ next number -> 100+15 =113 final result = 113"
      ],
      "metadata": {
        "id": "dw5Z53WLkmne"
      }
    },
    {
      "cell_type": "markdown",
      "source": [
        "**\n",
        "PRACTICAL QUESTION**"
      ],
      "metadata": {
        "id": "GCy7xfnonzT6"
      }
    },
    {
      "cell_type": "code",
      "metadata": {
        "colab": {
          "base_uri": "https://localhost:8080/"
        },
        "id": "be1e6763",
        "outputId": "4db8f145-a4ef-485e-ed88-f431e58eaa2d"
      },
      "source": [
        "#1 Write a Python function that takes a list of numbers as input and returns the sum of all even numbers in\n",
        "the list\n",
        "def sum_even_numbers(numbers_list):\n",
        "  \"\"\"\n",
        "  Calculates the sum of all even numbers in a list.\n",
        "\n",
        "  Args:\n",
        "    numbers_list: A list of numbers.\n",
        "\n",
        "  Returns:\n",
        "    The sum of all even numbers in the list.\n",
        "  \"\"\"\n",
        "  even_sum = 0\n",
        "  for number in numbers_list:\n",
        "    if number % 2 == 0:\n",
        "      even_sum += number\n",
        "  return even_sum\n",
        "\n",
        "# Example usage:\n",
        "my_list = [1, 2, 3, 4, 5, 6, 7, 8, 9, 10]\n",
        "result = sum_even_numbers(my_list)\n",
        "print(f\"The sum of even numbers in {my_list} is: {result}\")\n",
        "\n",
        "my_list_2 = [15, 23, 45, 60, 78, 91]\n",
        "result_2 = sum_even_numbers(my_list_2)\n",
        "print(f\"The sum of even numbers in {my_list_2} is: {result_2}\")"
      ],
      "execution_count": 5,
      "outputs": [
        {
          "output_type": "stream",
          "name": "stdout",
          "text": [
            "The sum of even numbers in [1, 2, 3, 4, 5, 6, 7, 8, 9, 10] is: 30\n",
            "The sum of even numbers in [15, 23, 45, 60, 78, 91] is: 138\n"
          ]
        }
      ]
    },
    {
      "cell_type": "code",
      "metadata": {
        "colab": {
          "base_uri": "https://localhost:8080/"
        },
        "id": "a749ca5c",
        "outputId": "254f24b3-00ea-4054-aabd-c75d32cf5e0e"
      },
      "source": [
        "#2 Create a Python function that accepts a string and returns the reverse of that string.\n",
        "def reverse_string(input_string):\n",
        "  \"\"\"\n",
        "  Reverses a given string.\n",
        "\n",
        "  Args:\n",
        "    input_string: The string to reverse.\n",
        "\n",
        "  Returns:\n",
        "    The reversed string.\n",
        "  \"\"\"\n",
        "  return input_string[::-1]\n",
        "\n",
        "# Example usage:\n",
        "my_string = \"Hello, World!\"\n",
        "reversed_string = reverse_string(my_string)\n",
        "print(f\"Original string: '{my_string}'\")\n",
        "print(f\"Reversed string: '{reversed_string}'\")\n",
        "\n",
        "my_string_2 = \"Python\"\n",
        "reversed_string_2 = reverse_string(my_string_2)\n",
        "print(f\"Original string: '{my_string_2}'\")\n",
        "print(f\"Reversed string: '{reversed_string_2}'\")"
      ],
      "execution_count": 6,
      "outputs": [
        {
          "output_type": "stream",
          "name": "stdout",
          "text": [
            "Original string: 'Hello, World!'\n",
            "Reversed string: '!dlroW ,olleH'\n",
            "Original string: 'Python'\n",
            "Reversed string: 'nohtyP'\n"
          ]
        }
      ]
    },
    {
      "cell_type": "code",
      "metadata": {
        "colab": {
          "base_uri": "https://localhost:8080/"
        },
        "id": "8e3fe7c6",
        "outputId": "77295310-d986-4963-ae4f-13c81ad01d9c"
      },
      "source": [
        "#3 Implement a Python function that takes a list of integers and returns a new list containing the squares of\n",
        "each number.\n",
        "def square_numbers(numbers_list):\n",
        "  \"\"\"\n",
        "  Calculates the square of each number in a list.\n",
        "\n",
        "  Args:\n",
        "    numbers_list: A list of integers.\n",
        "\n",
        "  Returns:\n",
        "    A new list containing the squares of each number.\n",
        "  \"\"\"\n",
        "  squared_list = []\n",
        "  for number in numbers_list:\n",
        "    squared_list.append(number ** 2)\n",
        "  return squared_list\n",
        "\n",
        "# Example usage:\n",
        "my_numbers = [1, 2, 3, 4, 5]\n",
        "squared_numbers = square_numbers(my_numbers)\n",
        "print(f\"Original list: {my_numbers}\")\n",
        "print(f\"Squared list: {squared_numbers}\")\n",
        "\n",
        "my_numbers_2 = [10, 20, 30]\n",
        "squared_numbers_2 = square_numbers(my_numbers_2)\n",
        "print(f\"Original list: {my_numbers_2}\")\n",
        "print(f\"Squared list: {squared_numbers_2}\")"
      ],
      "execution_count": 7,
      "outputs": [
        {
          "output_type": "stream",
          "name": "stdout",
          "text": [
            "Original list: [1, 2, 3, 4, 5]\n",
            "Squared list: [1, 4, 9, 16, 25]\n",
            "Original list: [10, 20, 30]\n",
            "Squared list: [100, 400, 900]\n"
          ]
        }
      ]
    },
    {
      "cell_type": "code",
      "metadata": {
        "colab": {
          "base_uri": "https://localhost:8080/"
        },
        "id": "d062da86",
        "outputId": "c017d9c4-9d17-481d-9cd6-343d2089c0a7"
      },
      "source": [
        "#4  Write a Python function that checks if a given number is prime or not from 1 to 200\n",
        "def is_prime(num):\n",
        "  \"\"\"\n",
        "  Checks if a given number is prime.\n",
        "\n",
        "  Args:\n",
        "    num: An integer.\n",
        "\n",
        "  Returns:\n",
        "    True if the number is prime, False otherwise.\n",
        "  \"\"\"\n",
        "  if num <= 1:\n",
        "    return False # Numbers less than or equal to 1 are not prime\n",
        "  if num <= 3:\n",
        "    return True  # 2 and 3 are prime numbers\n",
        "  if num % 2 == 0 or num % 3 == 0:\n",
        "    return False # Eliminate multiples of 2 and 3\n",
        "\n",
        "  # Check for prime by iterating from 5 up to the square root of num\n",
        "  # with a step of 6 (since prime numbers greater than 3 can be written\n",
        "  # in the form 6k ± 1)\n",
        "  i = 5\n",
        "  while i * i <= num:\n",
        "    if num % i == 0 or num % (i + 2) == 0:\n",
        "      return False\n",
        "    i += 6\n",
        "\n",
        "  return True\n",
        "\n",
        "# Check for prime numbers from 1 to 200\n",
        "print(\"Prime numbers between 1 and 200:\")\n",
        "for number in range(1, 201):\n",
        "  if is_prime(number):\n",
        "    print(number, end=\" \")"
      ],
      "execution_count": 8,
      "outputs": [
        {
          "output_type": "stream",
          "name": "stdout",
          "text": [
            "Prime numbers between 1 and 200:\n",
            "2 3 5 7 11 13 17 19 23 29 31 37 41 43 47 53 59 61 67 71 73 79 83 89 97 101 103 107 109 113 127 131 137 139 149 151 157 163 167 173 179 181 191 193 197 199 "
          ]
        }
      ]
    },
    {
      "cell_type": "code",
      "metadata": {
        "colab": {
          "base_uri": "https://localhost:8080/"
        },
        "id": "05288718",
        "outputId": "8978ec0f-f3e5-4660-cfd3-db824bd09ed1"
      },
      "source": [
        "#5  Create an iterator class in Python that generates the Fibonacci sequence up to a specified number of\n",
        "terms\n",
        "class FibonacciIterator:\n",
        "  \"\"\"\n",
        "  An iterator that generates the Fibonacci sequence up to a specified number of terms.\n",
        "  \"\"\"\n",
        "  def __init__(self, num_terms):\n",
        "    if num_terms <= 0:\n",
        "      raise ValueError(\"Number of terms must be positive\")\n",
        "    self.num_terms = num_terms\n",
        "    self.current_term = 0\n",
        "    self.a = 0\n",
        "    self.b = 1\n",
        "\n",
        "  def __iter__(self):\n",
        "    return self\n",
        "\n",
        "  def __next__(self):\n",
        "    if self.current_term < self.num_terms:\n",
        "      if self.current_term == 0:\n",
        "        self.current_term += 1\n",
        "        return self.a\n",
        "      elif self.current_term == 1:\n",
        "        self.current_term += 1\n",
        "        return self.b\n",
        "      else:\n",
        "        next_fib = self.a + self.b\n",
        "        self.a = self.b\n",
        "        self.b = next_fib\n",
        "        self.current_term += 1\n",
        "        return next_fib\n",
        "    else:\n",
        "      raise StopIteration\n",
        "\n",
        "# Example usage:\n",
        "fib_iterator = FibonacciIterator(10)\n",
        "\n",
        "print(\"Fibonacci sequence up to 10 terms:\")\n",
        "for fib_num in fib_iterator:\n",
        "  print(fib_num)\n",
        "\n",
        "print(\"\\nUsing next() to get the first 5 terms:\")\n",
        "fib_iterator_2 = FibonacciIterator(5)\n",
        "print(next(fib_iterator_2))\n",
        "print(next(fib_iterator_2))\n",
        "print(next(fib_iterator_2))\n",
        "print(next(fib_iterator_2))\n",
        "print(next(fib_iterator_2))\n",
        "\n",
        "# This will raise StopIteration:\n",
        "# print(next(fib_iterator_2))"
      ],
      "execution_count": 9,
      "outputs": [
        {
          "output_type": "stream",
          "name": "stdout",
          "text": [
            "Fibonacci sequence up to 10 terms:\n",
            "0\n",
            "1\n",
            "1\n",
            "2\n",
            "3\n",
            "5\n",
            "8\n",
            "13\n",
            "21\n",
            "34\n",
            "\n",
            "Using next() to get the first 5 terms:\n",
            "0\n",
            "1\n",
            "1\n",
            "2\n",
            "3\n"
          ]
        }
      ]
    },
    {
      "cell_type": "code",
      "metadata": {
        "colab": {
          "base_uri": "https://localhost:8080/"
        },
        "id": "d05df2ba",
        "outputId": "a4b6d9d0-de67-4044-d0f0-04a640d8e646"
      },
      "source": [
        "#6 Write a generator function in Python that yields the powers of 2 up to a given exponent\n",
        "def powers_of_two(max_exponent):\n",
        "  \"\"\"\n",
        "  Generates powers of 2 up to a given maximum exponent.\n",
        "\n",
        "  Args:\n",
        "    max_exponent: The maximum exponent (inclusive).\n",
        "\n",
        "  Yields:\n",
        "    The powers of 2 from 2^0 up to 2^max_exponent.\n",
        "  \"\"\"\n",
        "  for i in range(max_exponent + 1):\n",
        "    yield 2 ** i\n",
        "\n",
        "# Example usage:\n",
        "powers_gen = powers_of_two(5)\n",
        "\n",
        "print(\"Powers of 2 up to exponent 5:\")\n",
        "for power in powers_gen:\n",
        "  print(power)\n",
        "\n",
        "print(\"\\nGetting the next two powers using next():\")\n",
        "powers_gen_2 = powers_of_two(7) # Create a new generator instance\n",
        "print(next(powers_gen_2))\n",
        "print(next(powers_gen_2))"
      ],
      "execution_count": 10,
      "outputs": [
        {
          "output_type": "stream",
          "name": "stdout",
          "text": [
            "Powers of 2 up to exponent 5:\n",
            "1\n",
            "2\n",
            "4\n",
            "8\n",
            "16\n",
            "32\n",
            "\n",
            "Getting the next two powers using next():\n",
            "1\n",
            "2\n"
          ]
        }
      ]
    },
    {
      "cell_type": "code",
      "metadata": {
        "id": "0d71f835"
      },
      "source": [
        "#7 . Implement a generator function that reads a file line by line and yields each line as a string.\n",
        "# Create a dummy file for demonstration\n",
        "with open('my_example_file.txt', 'w') as f:\n",
        "  f.write(\"This is the first line.\\n\")\n",
        "  f.write(\"This is the second line.\\n\")\n",
        "  f.write(\"And the third line.\")"
      ],
      "execution_count": 11,
      "outputs": []
    },
    {
      "cell_type": "code",
      "metadata": {
        "colab": {
          "base_uri": "https://localhost:8080/"
        },
        "id": "17443911",
        "outputId": "5ef1b222-a5db-4888-94c4-bb6161029e6d"
      },
      "source": [
        "def file_reader_generator(file_path):\n",
        "  \"\"\"\n",
        "  A generator function that reads a file line by line and yields each line.\n",
        "\n",
        "  Args:\n",
        "    file_path: The path to the file to read.\n",
        "\n",
        "  Yields:\n",
        "    Each line of the file as a string.\n",
        "  \"\"\"\n",
        "  try:\n",
        "    with open(file_path, 'r') as f:\n",
        "      for line in f:\n",
        "        yield line.strip() # Yield each line, removing leading/trailing whitespace\n",
        "  except FileNotFoundError:\n",
        "    print(f\"Error: File not found at {file_path}\")\n",
        "  except Exception as e:\n",
        "    print(f\"An error occurred: {e}\")\n",
        "\n",
        "# Example usage:\n",
        "# Use the generator to read the dummy file line by line\n",
        "print(\"Reading file using the generator:\")\n",
        "for line in file_reader_generator('my_example_file.txt'):\n",
        "  print(line)\n",
        "\n",
        "# You can also use next() to get lines one by one\n",
        "print(\"\\nGetting lines using next():\")\n",
        "file_gen = file_reader_generator('my_example_file.txt')\n",
        "print(next(file_gen))\n",
        "print(next(file_gen))"
      ],
      "execution_count": 12,
      "outputs": [
        {
          "output_type": "stream",
          "name": "stdout",
          "text": [
            "Reading file using the generator:\n",
            "This is the first line.\n",
            "This is the second line.\n",
            "And the third line.\n",
            "\n",
            "Getting lines using next():\n",
            "This is the first line.\n",
            "This is the second line.\n"
          ]
        }
      ]
    },
    {
      "cell_type": "code",
      "metadata": {
        "colab": {
          "base_uri": "https://localhost:8080/"
        },
        "id": "94ce449a",
        "outputId": "377eefda-e77b-417f-caec-605cf692ae8d"
      },
      "source": [
        "#8 Use a lambda function in Python to sort a list of tuples based on the second element of each tuple\n",
        "# A list of tuples\n",
        "my_tuples = [(1, 'b'), (3, 'a'), (2, 'c'), (4, 'a')]\n",
        "\n",
        "# Use a lambda function as the key to sort based on the second element (index 1)\n",
        "sorted_tuples = sorted(my_tuples, key=lambda item: item[1])\n",
        "\n",
        "print(f\"Original list of tuples: {my_tuples}\")\n",
        "print(f\"Sorted list of tuples by the second element: {sorted_tuples}\")"
      ],
      "execution_count": 13,
      "outputs": [
        {
          "output_type": "stream",
          "name": "stdout",
          "text": [
            "Original list of tuples: [(1, 'b'), (3, 'a'), (2, 'c'), (4, 'a')]\n",
            "Sorted list of tuples by the second element: [(3, 'a'), (4, 'a'), (1, 'b'), (2, 'c')]\n"
          ]
        }
      ]
    },
    {
      "cell_type": "code",
      "metadata": {
        "colab": {
          "base_uri": "https://localhost:8080/"
        },
        "id": "77ce6ac0",
        "outputId": "5e133ed6-2a89-44b2-f0a3-2e68b60bf6c3"
      },
      "source": [
        "#9  Write a Python program that uses `map()` to convert a list of temperatures from Celsius to Fahrenheit\n",
        "# Function to convert Celsius to Fahrenheit\n",
        "def celsius_to_fahrenheit(celsius):\n",
        "  return (celsius * 9/5) + 32\n",
        "\n",
        "# List of temperatures in Celsius\n",
        "celsius_temperatures = [0, 10, 20, 30, 40]\n",
        "\n",
        "# Use map() to apply the conversion function to each element\n",
        "fahrenheit_temperatures_map = map(celsius_to_fahrenheit, celsius_temperatures)\n",
        "\n",
        "# Convert the map object to a list to display the results\n",
        "fahrenheit_temperatures_list = list(fahrenheit_temperatures_map)\n",
        "\n",
        "print(f\"Celsius temperatures: {celsius_temperatures}\")\n",
        "print(f\"Fahrenheit temperatures (using map()): {fahrenheit_temperatures_list}\")"
      ],
      "execution_count": 14,
      "outputs": [
        {
          "output_type": "stream",
          "name": "stdout",
          "text": [
            "Celsius temperatures: [0, 10, 20, 30, 40]\n",
            "Fahrenheit temperatures (using map()): [32.0, 50.0, 68.0, 86.0, 104.0]\n"
          ]
        }
      ]
    },
    {
      "cell_type": "code",
      "metadata": {
        "colab": {
          "base_uri": "https://localhost:8080/"
        },
        "id": "09436367",
        "outputId": "f1d470fe-95fa-4521-e50c-ee170a1546cd"
      },
      "source": [
        "#10 Create a Python program that uses `filter()` to remove all the vowels from a given string.\n",
        "def is_not_vowel(character):\n",
        "  \"\"\"\n",
        "  Checks if a character is not a vowel (case-insensitive).\n",
        "\n",
        "  Args:\n",
        "    character: The character to check.\n",
        "\n",
        "  Returns:\n",
        "    True if the character is not a vowel, False otherwise.\n",
        "  \"\"\"\n",
        "  vowels = \"aeiouAEIOU\"\n",
        "  return character not in vowels\n",
        "\n",
        "# The input string\n",
        "input_string = \"Hello, World!\"\n",
        "\n",
        "# Use filter() with the is_not_vowel function to remove vowels\n",
        "filtered_characters = filter(is_not_vowel, input_string)\n",
        "\n",
        "# Join the filtered characters back into a string\n",
        "result_string = \"\".join(filtered_characters)\n",
        "\n",
        "print(f\"Original string: '{input_string}'\")\n",
        "print(f\"String after removing vowels: '{result_string}'\")\n",
        "\n",
        "# Another example\n",
        "input_string_2 = \"Programming is fun\"\n",
        "filtered_characters_2 = filter(is_not_vowel, input_string_2)\n",
        "result_string_2 = \"\".join(filtered_characters_2)\n",
        "print(f\"Original string: '{input_string_2}'\")\n",
        "print(f\"String after removing vowels: '{result_string_2}'\")"
      ],
      "execution_count": 15,
      "outputs": [
        {
          "output_type": "stream",
          "name": "stdout",
          "text": [
            "Original string: 'Hello, World!'\n",
            "String after removing vowels: 'Hll, Wrld!'\n",
            "Original string: 'Programming is fun'\n",
            "String after removing vowels: 'Prgrmmng s fn'\n"
          ]
        }
      ]
    },
    {
      "cell_type": "markdown",
      "source": [
        " Q11.  Imagine an accounting routine used in a book shop. It works on a list with sublists, which look like this:\n",
        " Write a Python program, which returns a list with 2-tuples. Each tuple consists of the order number and the product of the price per item and the quantity. The product should be increased by 10,- € if the value of the order is smaller than 100,00 €. Write a Python program using lambda and map  \n",
        "\n",
        "\n",
        "\n",
        "\n"
      ],
      "metadata": {
        "id": "Uq6vO08Nv96o"
      }
    },
    {
      "cell_type": "code",
      "metadata": {
        "colab": {
          "base_uri": "https://localhost:8080/"
        },
        "id": "09326910",
        "outputId": "2768bf49-a0d3-4e06-ceaa-b794724780db"
      },
      "source": [
        "# The list of book orders\n",
        "orders = [\n",
        "    [34587, 'learnig python mark lutz', 4, 40.95],\n",
        "    [98762, 'programmin phthon mark lutz', 5, 56.80],\n",
        "    [77226, 'head first python paul berry', 3, 32.95],\n",
        "    [88112, 'einfuhrung in python brend klein', 3, 24.99]\n",
        "]\n",
        "\n",
        "# Use map and a lambda function to process each order item\n",
        "# The lambda function takes an order sublist as input (let's call it 'item')\n",
        "# item[0] is the order number\n",
        "# item[2] is the quantity\n",
        "# item[3] is the price per item\n",
        "processed_orders = list(map(lambda item: (item[0], item[2] * item[3] + (10 if item[2] * item[3] < 100 else 0)), orders))\n",
        "\n",
        "# Print the resulting list of tuples\n",
        "print(processed_orders)"
      ],
      "execution_count": 16,
      "outputs": [
        {
          "output_type": "stream",
          "name": "stdout",
          "text": [
            "[(34587, 163.8), (98762, 284.0), (77226, 108.85000000000001), (88112, 84.97)]\n"
          ]
        }
      ]
    }
  ]
}